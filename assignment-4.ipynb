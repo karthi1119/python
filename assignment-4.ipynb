{
 "cells": [
  {
   "cell_type": "code",
   "execution_count": null,
   "id": "d6b0b7d3-eaa9-4156-a81e-36940c2322bb",
   "metadata": {},
   "outputs": [],
   "source": [
    "#print 'correct' if i==10"
   ]
  },
  {
   "cell_type": "code",
   "execution_count": 7,
   "id": "c60b6fef-2379-4b6e-96a6-762527854244",
   "metadata": {},
   "outputs": [
    {
     "name": "stdin",
     "output_type": "stream",
     "text": [
      "value: 10\n"
     ]
    },
    {
     "name": "stdout",
     "output_type": "stream",
     "text": [
      "correct\n"
     ]
    }
   ],
   "source": [
    "i=int(input(\"value:\"))\n",
    "if(i==10):\n",
    "    print(\"correct\")"
   ]
  },
  {
   "cell_type": "code",
   "execution_count": null,
   "id": "eadffd75-fa2c-4cd2-b9bf-6910bb7beae5",
   "metadata": {},
   "outputs": [],
   "source": [
    "#category the people by their age llike children,adult,citizen,senior citizen..."
   ]
  },
  {
   "cell_type": "code",
   "execution_count": 51,
   "id": "c920bc00-4f7b-44fa-aee5-c93bb51ae2e0",
   "metadata": {},
   "outputs": [
    {
     "name": "stdin",
     "output_type": "stream",
     "text": [
      "age: 20\n"
     ]
    },
    {
     "name": "stdout",
     "output_type": "stream",
     "text": [
      "adult\n"
     ]
    }
   ],
   "source": [
    "age=int(input(\"age:\"))\n",
    "if(age<18):\n",
    "        print(\"children\")\n",
    "elif(age<30):\n",
    "        print(\"adult\")\n",
    "elif(age<50):\n",
    "        print(\"citizen\")\n",
    "else:\n",
    "        print(\"senior citizen\")\n"
   ]
  },
  {
   "cell_type": "code",
   "execution_count": null,
   "id": "6847712e-e525-4a0b-a600-7c568ca1e29e",
   "metadata": {},
   "outputs": [],
   "source": [
    "#find whether given number is  positive or negative"
   ]
  },
  {
   "cell_type": "code",
   "execution_count": 19,
   "id": "a4d117df-8d07-41ea-90ca-b4a01a12f1a8",
   "metadata": {},
   "outputs": [
    {
     "name": "stdin",
     "output_type": "stream",
     "text": [
      "enter any number: 1\n"
     ]
    },
    {
     "name": "stdout",
     "output_type": "stream",
     "text": [
      "no is positive\n"
     ]
    }
   ],
   "source": [
    "num=int(input(\"enter any number:\"))\n",
    "if(num>0):\n",
    "    print(\"no is positive\")\n",
    "else:\n",
    "    print(\"no is negative\")"
   ]
  },
  {
   "cell_type": "code",
   "execution_count": null,
   "id": "c0df6d9b-fbfc-48c1-a754-9af4d5791b56",
   "metadata": {},
   "outputs": [],
   "source": [
    "#check whether the given number is divisible by 5"
   ]
  },
  {
   "cell_type": "code",
   "execution_count": 21,
   "id": "a6aa6033-6a07-4827-bd91-b48e3aa5c50a",
   "metadata": {},
   "outputs": [
    {
     "name": "stdin",
     "output_type": "stream",
     "text": [
      "enter a number to check: 22\n"
     ]
    },
    {
     "name": "stdout",
     "output_type": "stream",
     "text": [
      "no is not divisible by 5\n"
     ]
    }
   ],
   "source": [
    "num=int(input(\"enter a number to check:\"))\n",
    "if((num%5)==0):\n",
    "  print(\"no is divisible by 5\")\n",
    "else:\n",
    "  print(\"no is not divisible by 5\")"
   ]
  },
  {
   "cell_type": "code",
   "execution_count": null,
   "id": "90219792-2895-4f0f-b23d-d21c8a405192",
   "metadata": {},
   "outputs": [],
   "source": [
    "#check the password,using if and else"
   ]
  },
  {
   "cell_type": "code",
   "execution_count": 50,
   "id": "1967633f-c4d9-41dc-85fc-c1dfe2021634",
   "metadata": {},
   "outputs": [
    {
     "name": "stdin",
     "output_type": "stream",
     "text": [
      "enter the password: hope@123\n"
     ]
    },
    {
     "name": "stdout",
     "output_type": "stream",
     "text": [
      "your password is correct\n"
     ]
    }
   ],
   "source": [
    "password=input(\"enter the password:\")\n",
    "if(password==\"hope@123\"):\n",
    "    print(\"your password is correct\")\n",
    "else:\n",
    "    print(\"your password is incorrect\")"
   ]
  }
 ],
 "metadata": {
  "kernelspec": {
   "display_name": "Python 3 (ipykernel)",
   "language": "python",
   "name": "python3"
  },
  "language_info": {
   "codemirror_mode": {
    "name": "ipython",
    "version": 3
   },
   "file_extension": ".py",
   "mimetype": "text/x-python",
   "name": "python",
   "nbconvert_exporter": "python",
   "pygments_lexer": "ipython3",
   "version": "3.11.7"
  }
 },
 "nbformat": 4,
 "nbformat_minor": 5
}
