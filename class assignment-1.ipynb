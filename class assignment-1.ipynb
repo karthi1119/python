{
 "cells": [
  {
   "cell_type": "code",
   "execution_count": 4,
   "id": "b83113b8-e609-43e1-9072-fdad09ba436c",
   "metadata": {},
   "outputs": [
    {
     "name": "stdin",
     "output_type": "stream",
     "text": [
      "enter the number: 52452\n"
     ]
    },
    {
     "name": "stdout",
     "output_type": "stream",
     "text": [
      "52452 is even number\n"
     ]
    },
    {
     "data": {
      "text/plain": [
       "'even number'"
      ]
     },
     "execution_count": 4,
     "metadata": {},
     "output_type": "execute_result"
    }
   ],
   "source": [
    "class oddEven():\n",
    "    def oddEven():\n",
    "        num=int(input(\"enter the number:\"))\n",
    "        if((num%2)==1):\n",
    "            print(num,\"is odd number\")\n",
    "            message=\"odd number\"\n",
    "        else:\n",
    "            print(num,\"is even number\")\n",
    "            message=\"even number\"\n",
    "        return message\n",
    "oddEven.oddEven()"
   ]
  },
  {
   "cell_type": "code",
   "execution_count": 9,
   "id": "4a1315b5-b15a-49e9-b6bc-5ae0e478209f",
   "metadata": {},
   "outputs": [
    {
     "name": "stdin",
     "output_type": "stream",
     "text": [
      "subject1: 98\n",
      "subject2: 87\n",
      "subject3: 95\n",
      "subject4: 95\n",
      "subject5: 93\n"
     ]
    },
    {
     "name": "stdout",
     "output_type": "stream",
     "text": [
      "total: 468\n",
      "percentage: 93.6\n"
     ]
    }
   ],
   "source": [
    "class findpercent():\n",
    "    def percentage():\n",
    "        subject1=int(input(\"subject1:\"))\n",
    "        subject2=int(input(\"subject2:\"))\n",
    "        subject3=int(input(\"subject3:\"))\n",
    "        subject4=int(input(\"subject4:\"))\n",
    "        subject5=int(input(\"subject5:\"))\n",
    "        total=subject1+subject2+subject3+subject4+subject5\n",
    "        print(\"total:\",total)\n",
    "        percentage=total/5\n",
    "        print(\"percentage:\",percentage)\n",
    "findpercent.percentage()"
   ]
  },
  {
   "cell_type": "code",
   "execution_count": 11,
   "id": "5ef2f4e8-7005-4d96-84a7-839b64c7e542",
   "metadata": {},
   "outputs": [
    {
     "name": "stdin",
     "output_type": "stream",
     "text": [
      "your gender: male\n",
      "your age 20\n"
     ]
    },
    {
     "name": "stdout",
     "output_type": "stream",
     "text": [
      "not eligible\n"
     ]
    },
    {
     "data": {
      "text/plain": [
       "'not eligible'"
      ]
     },
     "execution_count": 11,
     "metadata": {},
     "output_type": "execute_result"
    }
   ],
   "source": [
    "class ElegiblityForMarriage():\n",
    "    def elegible():\n",
    "        gender=input(\"your gender:\")\n",
    "        age=int(input(\"your age\"))\n",
    "        if(gender in \"male\"):\n",
    "            if(age<21):\n",
    "                print(\"not eligible\")\n",
    "                message=\"not eligible\"\n",
    "            else:\n",
    "                print(\"eligible\")\n",
    "                message=\"eligible\"\n",
    "        elif(gender in \"female\"):\n",
    "             if(age<18):\n",
    "                 print(\"not eligible\")\n",
    "                 message=\"not eligible\"\n",
    "             else:\n",
    "                 print(\"eligible\")\n",
    "        else:\n",
    "            print(\"invalid gender\")\n",
    "            message=\"invalid gender\"\n",
    "        return message\n",
    "ElegiblityForMarriage.elegible()"
   ]
  },
  {
   "cell_type": "code",
   "execution_count": 12,
   "id": "9f48a79c-a608-4626-a994-4ced61f4326b",
   "metadata": {},
   "outputs": [
    {
     "name": "stdout",
     "output_type": "stream",
     "text": [
      "sub-field in ai are:\n",
      "machine lerning\n",
      "neural learning\n",
      "vision\n",
      "robotics\n",
      "speech processing\n",
      "natural language processing\n"
     ]
    }
   ],
   "source": [
    "class subfieldsInAI():\n",
    "    def subfieldsInAI():\n",
    "        lists=(\"machine lerning\",\"neural learning\",\"vision\",\"robotics\",\"speech processing\",\"natural language processing\")\n",
    "        field=\"sub-field in ai are:\"\n",
    "        print(field)\n",
    "        for field in lists:\n",
    "            print(field)\n",
    "subfieldsInAI.subfieldsInAI()\n",
    "    "
   ]
  },
  {
   "cell_type": "code",
   "execution_count": 13,
   "id": "e3e81d76-fbe2-44b3-9097-a7d4bf550bf8",
   "metadata": {},
   "outputs": [
    {
     "name": "stdin",
     "output_type": "stream",
     "text": [
      "height: 32\n",
      "breath: 34\n"
     ]
    },
    {
     "name": "stdout",
     "output_type": "stream",
     "text": [
      "area of formula:(breath*height)/2\n",
      "area of triangle: 544.0\n"
     ]
    },
    {
     "name": "stdin",
     "output_type": "stream",
     "text": [
      "height1: 2\n",
      "height2: 4\n",
      "breath1: 4\n"
     ]
    },
    {
     "name": "stdout",
     "output_type": "stream",
     "text": [
      "perimeter of triangle=height1+height2+breath1\n",
      "perimeter of triangle: 10\n"
     ]
    }
   ],
   "source": [
    "class triangle():\n",
    "    def triangle():\n",
    "        height=int(input(\"height:\"))\n",
    "        breath=int(input(\"breath:\"))\n",
    "        print(\"area of formula:(breath*height)/2\")\n",
    "        area=(breath*height)/2\n",
    "        print(\"area of triangle:\",area)\n",
    "        height1=int(input(\"height1:\"))\n",
    "        height2=int(input(\"height2:\"))\n",
    "        breath1=int(input(\"breath1:\"))\n",
    "        print(\"perimeter of triangle=height1+height2+breath1\")\n",
    "        perimeter=height1+height2+breath1\n",
    "        print(\"perimeter of triangle:\",perimeter)\n",
    "triangle.triangle()"
   ]
  },
  {
   "cell_type": "code",
   "execution_count": null,
   "id": "dbf91b21-58e2-4f38-a26e-112a207e4c55",
   "metadata": {},
   "outputs": [],
   "source": []
  }
 ],
 "metadata": {
  "kernelspec": {
   "display_name": "Python 3 (ipykernel)",
   "language": "python",
   "name": "python3"
  },
  "language_info": {
   "codemirror_mode": {
    "name": "ipython",
    "version": 3
   },
   "file_extension": ".py",
   "mimetype": "text/x-python",
   "name": "python",
   "nbconvert_exporter": "python",
   "pygments_lexer": "ipython3",
   "version": "3.11.7"
  }
 },
 "nbformat": 4,
 "nbformat_minor": 5
}
