{
 "cells": [
  {
   "cell_type": "code",
   "execution_count": 1,
   "id": "82441452-4940-4b41-aca7-6a447919e501",
   "metadata": {},
   "outputs": [],
   "source": [
    "from multipleAssignment import multipleAssignment"
   ]
  },
  {
   "cell_type": "code",
   "execution_count": 2,
   "id": "346429c1-7d9a-448d-81f3-426b7347a4c5",
   "metadata": {},
   "outputs": [
    {
     "name": "stdin",
     "output_type": "stream",
     "text": [
      "enter the number: 52452\n"
     ]
    },
    {
     "name": "stdout",
     "output_type": "stream",
     "text": [
      "52452 is even number\n"
     ]
    },
    {
     "data": {
      "text/plain": [
       "'even number'"
      ]
     },
     "execution_count": 2,
     "metadata": {},
     "output_type": "execute_result"
    }
   ],
   "source": [
    "multipleAssignment.oddEven()"
   ]
  },
  {
   "cell_type": "code",
   "execution_count": 4,
   "id": "459a7e44-dfb2-4140-97e0-b40cbe6c10b7",
   "metadata": {},
   "outputs": [
    {
     "name": "stdin",
     "output_type": "stream",
     "text": [
      "subject1: 98\n",
      "subject2: 87\n",
      "subject3: 95\n",
      "subject4: 95\n",
      "subject5: 93\n"
     ]
    },
    {
     "name": "stdout",
     "output_type": "stream",
     "text": [
      "total: 468\n",
      "percentage: 93.6\n"
     ]
    }
   ],
   "source": [
    "multipleAssignment.percentage()"
   ]
  },
  {
   "cell_type": "code",
   "execution_count": 10,
   "id": "fab11561-6fd6-4fec-9e7a-68f23bdc728e",
   "metadata": {},
   "outputs": [
    {
     "name": "stdin",
     "output_type": "stream",
     "text": [
      "your gender: male\n",
      "your age 20\n"
     ]
    },
    {
     "name": "stdout",
     "output_type": "stream",
     "text": [
      "not eligible\n"
     ]
    },
    {
     "data": {
      "text/plain": [
       "'not eligible'"
      ]
     },
     "execution_count": 10,
     "metadata": {},
     "output_type": "execute_result"
    }
   ],
   "source": [
    "multipleAssignment.elegible()"
   ]
  },
  {
   "cell_type": "code",
   "execution_count": 14,
   "id": "6a89d2f9-fb6b-436f-bed7-0a95801c44b0",
   "metadata": {},
   "outputs": [
    {
     "name": "stdout",
     "output_type": "stream",
     "text": [
      "sub-field in ai are:\n",
      "machine lerning\n",
      "neural learning\n",
      "vision\n",
      "robotics\n",
      "speech processing\n",
      "natural language processing\n"
     ]
    }
   ],
   "source": [
    "multipleAssignment.subfieldsInAI()"
   ]
  },
  {
   "cell_type": "code",
   "execution_count": 13,
   "id": "2293f442-0203-4308-b9f3-0f44bbf9be8e",
   "metadata": {},
   "outputs": [
    {
     "name": "stdin",
     "output_type": "stream",
     "text": [
      "height: 32\n",
      "breath: 34\n"
     ]
    },
    {
     "name": "stdout",
     "output_type": "stream",
     "text": [
      "area of formula:(breath*height)/2\n",
      "area of triangle: 544.0\n"
     ]
    },
    {
     "name": "stdin",
     "output_type": "stream",
     "text": [
      "height1: 2\n",
      "height2: 4\n",
      "breath1: 4\n"
     ]
    },
    {
     "name": "stdout",
     "output_type": "stream",
     "text": [
      "perimeter of triangle=height1+height2+breath1\n",
      "perimeter of triangle: 10\n"
     ]
    }
   ],
   "source": [
    "multipleAssignment.triangle()"
   ]
  },
  {
   "cell_type": "code",
   "execution_count": null,
   "id": "5658ee4c-c690-48c8-8b8b-253ff4dc70cd",
   "metadata": {},
   "outputs": [],
   "source": []
  }
 ],
 "metadata": {
  "kernelspec": {
   "display_name": "Python 3 (ipykernel)",
   "language": "python",
   "name": "python3"
  },
  "language_info": {
   "codemirror_mode": {
    "name": "ipython",
    "version": 3
   },
   "file_extension": ".py",
   "mimetype": "text/x-python",
   "name": "python",
   "nbconvert_exporter": "python",
   "pygments_lexer": "ipython3",
   "version": "3.11.7"
  }
 },
 "nbformat": 4,
 "nbformat_minor": 5
}
