{
 "cells": [
  {
   "cell_type": "code",
   "execution_count": 1,
   "id": "aa2c6996-e4f0-4252-8b42-5039cb656659",
   "metadata": {},
   "outputs": [
    {
     "name": "stdout",
     "output_type": "stream",
     "text": [
      "add\n",
      "30\n"
     ]
    }
   ],
   "source": [
    "num1=10\n",
    "num2=20\n",
    "add=num1+num2\n",
    "print(\"add\")\n",
    "print(add)"
   ]
  },
  {
   "cell_type": "raw",
   "id": "576ffaf4-e6ca-4412-b448-991aa79d4645",
   "metadata": {},
   "source": [
    "print(\"the addition of two numbers\")\n",
    "num1=10\n",
    "print(\"the number1:\",num1)\n",
    "num2=20\n",
    "print(\"the number2:\",num2)\n",
    "print(\"the answer is:\",num1+num2)"
   ]
  },
  {
   "cell_type": "code",
   "execution_count": 6,
   "id": "c6b392db-2aed-45b9-9fac-30272b28cdb7",
   "metadata": {},
   "outputs": [
    {
     "name": "stdin",
     "output_type": "stream",
     "text": [
      "enter the num1: 20\n"
     ]
    }
   ],
   "source": [
    "num1=int(input(\"enter the num1:\"))"
   ]
  },
  {
   "cell_type": "code",
   "execution_count": 7,
   "id": "45225a3a-86f5-43dc-8c6b-3acd9d381259",
   "metadata": {},
   "outputs": [
    {
     "name": "stdin",
     "output_type": "stream",
     "text": [
      "enter the num2: 30\n"
     ]
    }
   ],
   "source": [
    "num2=int(input(\"enter the num2:\"))"
   ]
  },
  {
   "cell_type": "code",
   "execution_count": 10,
   "id": "3cc6880d-4c9e-46ea-8699-c054850b311e",
   "metadata": {},
   "outputs": [
    {
     "name": "stdout",
     "output_type": "stream",
     "text": [
      "50\n",
      "9\n"
     ]
    }
   ],
   "source": [
    "add=num1+num2\n",
    "mul=9\n",
    "print(add)\n",
    "print(mul)"
   ]
  },
  {
   "cell_type": "code",
   "execution_count": 14,
   "id": "68478c48-54c7-4a48-a4a2-a7a2de4e8afa",
   "metadata": {},
   "outputs": [
    {
     "name": "stdin",
     "output_type": "stream",
     "text": [
      "enter your name: 3\n"
     ]
    }
   ],
   "source": [
    "num=int(input(\"enter your name:\"))"
   ]
  },
  {
   "cell_type": "code",
   "execution_count": null,
   "id": "8236aff2-2c21-4af3-9b54-49ae9d5799f0",
   "metadata": {},
   "outputs": [],
   "source": []
  }
 ],
 "metadata": {
  "kernelspec": {
   "display_name": "Python 3 (ipykernel)",
   "language": "python",
   "name": "python3"
  },
  "language_info": {
   "codemirror_mode": {
    "name": "ipython",
    "version": 3
   },
   "file_extension": ".py",
   "mimetype": "text/x-python",
   "name": "python",
   "nbconvert_exporter": "python",
   "pygments_lexer": "ipython3",
   "version": "3.11.7"
  }
 },
 "nbformat": 4,
 "nbformat_minor": 5
}
