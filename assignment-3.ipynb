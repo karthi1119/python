{
 "cells": [
  {
   "cell_type": "code",
   "execution_count": null,
   "id": "744d8a69-e820-4c88-831f-2e37ea971b9d",
   "metadata": {},
   "outputs": [],
   "source": [
    "#print 0 to 20 by using range"
   ]
  },
  {
   "cell_type": "code",
   "execution_count": 1,
   "id": "a24d70f4-0764-4831-9406-4f0e720f1a11",
   "metadata": {},
   "outputs": [
    {
     "name": "stdout",
     "output_type": "stream",
     "text": [
      "0\n",
      "1\n",
      "2\n",
      "3\n",
      "4\n",
      "5\n",
      "6\n",
      "7\n",
      "8\n",
      "9\n",
      "10\n",
      "11\n",
      "12\n",
      "13\n",
      "14\n",
      "15\n",
      "16\n",
      "17\n",
      "18\n",
      "19\n"
     ]
    }
   ],
   "source": [
    "for num in range(0,20):\n",
    "    print(num)"
   ]
  },
  {
   "cell_type": "code",
   "execution_count": 2,
   "id": "abf578c1-b8c1-4280-89d5-dddffff35038",
   "metadata": {},
   "outputs": [],
   "source": [
    "#print range 10 to 20"
   ]
  },
  {
   "cell_type": "code",
   "execution_count": 7,
   "id": "4610d84b-9ddc-4717-9412-b730b02acc1e",
   "metadata": {},
   "outputs": [
    {
     "name": "stdout",
     "output_type": "stream",
     "text": [
      "10  11  12  13  14  15  16  17  18  19  "
     ]
    }
   ],
   "source": [
    "for num in range(10,20,1):\n",
    "    print(num,end=\"  \")"
   ]
  },
  {
   "cell_type": "code",
   "execution_count": 8,
   "id": "817a56c3-5120-4a02-9754-ad4b8ba141cb",
   "metadata": {},
   "outputs": [],
   "source": [
    "#print number of items in the list by using 'len'"
   ]
  },
  {
   "cell_type": "code",
   "execution_count": 24,
   "id": "23e52f53-712a-4b73-bb61-e48c5e4c2862",
   "metadata": {},
   "outputs": [
    {
     "name": "stdout",
     "output_type": "stream",
     "text": [
      "[10, 20, 14, 55, 43, 87, 76]\n",
      "number of item in the list2:\n",
      "7\n"
     ]
    }
   ],
   "source": [
    "list1=[88,99,3,56,23,76]\n",
    "list2=[10,20,14,55,43,87,76]\n",
    "x=len(list2)\n",
    "print(list2)\n",
    "print(\"number of item in the list2:\")\n",
    "print(x)"
   ]
  },
  {
   "cell_type": "code",
   "execution_count": 75,
   "id": "5f5eb0b5-b426-452a-8ede-0695ba06f56d",
   "metadata": {},
   "outputs": [
    {
     "name": "stdout",
     "output_type": "stream",
     "text": [
      "Artifical Intelligence\n",
      "A\n",
      "r\n",
      "t\n",
      "i\n",
      "f\n",
      "i\n",
      "c\n",
      "a\n",
      "l\n",
      " \n",
      "I\n",
      "n\n",
      "t\n",
      "e\n",
      "l\n",
      "l\n",
      "i\n",
      "g\n",
      "e\n",
      "n\n",
      "c\n",
      "e\n"
     ]
    }
   ],
   "source": [
    "a=\"Artifical Intelligence\"\n",
    "print(a)\n",
    "for i in a:\n",
    "    print(i)\n",
    "    "
   ]
  },
  {
   "cell_type": "code",
   "execution_count": 39,
   "id": "4458bb6f-c821-42c3-afc1-8e0a914b6d92",
   "metadata": {},
   "outputs": [
    {
     "name": "stdout",
     "output_type": "stream",
     "text": [
      "-your name-\n",
      "-your age-\n",
      "-your proffession-"
     ]
    }
   ],
   "source": [
    "a=[\"-your name-\\n\",\"-your age-\\n\",\"-your proffession-\"]\n",
    "for i in a:\n",
    "    print(i,end=\"\")\n",
    "    "
   ]
  },
  {
   "cell_type": "code",
   "execution_count": null,
   "id": "b5b3c8c7-73ed-4e81-b5ca-a666881e2ce4",
   "metadata": {},
   "outputs": [],
   "source": [
    "#print this mixered datatype using tuples"
   ]
  },
  {
   "cell_type": "code",
   "execution_count": 61,
   "id": "92d5fd4b-1aff-47dd-a473-d708ad746c03",
   "metadata": {},
   "outputs": [
    {
     "name": "stdout",
     "output_type": "stream",
     "text": [
      "(1, 'welcome', 2, 'hope')\n"
     ]
    }
   ],
   "source": [
    "tuple=(1,'welcome',2,'hope')\n",
    "print(tuple)"
   ]
  },
  {
   "cell_type": "code",
   "execution_count": 36,
   "id": "71f842fa-7ae0-4b33-9c9f-99e9123734d8",
   "metadata": {},
   "outputs": [
    {
     "name": "stdout",
     "output_type": "stream",
     "text": [
      "((0, 1, 2, 3), ('python', 'hope'))\n"
     ]
    }
   ],
   "source": [
    "tuple1=(0,1,2,3)\n",
    "tuple2=('python','hope')\n",
    "add=tuple1,tuple2\n",
    "print(add)"
   ]
  },
  {
   "cell_type": "code",
   "execution_count": 65,
   "id": "7d7693e6-518b-474e-9010-a48dec2c7aff",
   "metadata": {},
   "outputs": [],
   "source": [
    "#print odd numbers in the List"
   ]
  },
  {
   "cell_type": "code",
   "execution_count": 73,
   "id": "1180accb-2c29-4591-90b0-760e8050dadf",
   "metadata": {},
   "outputs": [
    {
     "name": "stdout",
     "output_type": "stream",
     "text": [
      "(20, 10, 16, 19, 25, 1, 276, 188)\n",
      "19 is odd\n",
      "25 is odd\n",
      "1 is odd\n"
     ]
    }
   ],
   "source": [
    "list=(20,10,16,19,25,1,276,188)\n",
    "print(list)\n",
    "for i in list:\n",
    "    if((i%2)==1):\n",
    "        print(i,\"is odd\")"
   ]
  },
  {
   "cell_type": "code",
   "execution_count": null,
   "id": "8e710c5a-30a7-4cc2-8add-0e5196c863a2",
   "metadata": {},
   "outputs": [],
   "source": [
    "#print even numbers in the list"
   ]
  },
  {
   "cell_type": "code",
   "execution_count": 74,
   "id": "54c2bb48-0387-4fe2-96a4-9cbc90e6e55e",
   "metadata": {},
   "outputs": [
    {
     "name": "stdout",
     "output_type": "stream",
     "text": [
      "(20, 10, 16, 19, 25, 1, 276, 188)\n",
      "20 is even\n",
      "10 is even\n",
      "16 is even\n",
      "276 is even\n",
      "188 is even\n"
     ]
    }
   ],
   "source": [
    "list=(20,10,16,19,25,1,276,188)\n",
    "print(list)\n",
    "for i in list:\n",
    "    if((i%2)==0):\n",
    "        print(i,\"is even\")"
   ]
  }
 ],
 "metadata": {
  "kernelspec": {
   "display_name": "Python 3 (ipykernel)",
   "language": "python",
   "name": "python3"
  },
  "language_info": {
   "codemirror_mode": {
    "name": "ipython",
    "version": 3
   },
   "file_extension": ".py",
   "mimetype": "text/x-python",
   "name": "python",
   "nbconvert_exporter": "python",
   "pygments_lexer": "ipython3",
   "version": "3.11.7"
  }
 },
 "nbformat": 4,
 "nbformat_minor": 5
}
