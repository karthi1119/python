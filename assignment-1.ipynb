{
 "cells": [
  {
   "cell_type": "code",
   "execution_count": 3,
   "id": "8e3a1b62-092d-4dff-90e1-b092fa80801e",
   "metadata": {},
   "outputs": [
    {
     "name": "stdout",
     "output_type": "stream",
     "text": [
      "welcome to assignment-1\n"
     ]
    }
   ],
   "source": [
    "print(\"welcome to assignment-1\")"
   ]
  },
  {
   "cell_type": "code",
   "execution_count": 8,
   "id": "1588a920-8a5b-476c-b4f2-857b1d315706",
   "metadata": {},
   "outputs": [
    {
     "name": "stdin",
     "output_type": "stream",
     "text": [
      "num1= 3\n",
      "num2= 4\n"
     ]
    },
    {
     "name": "stdout",
     "output_type": "stream",
     "text": [
      "add= 7\n"
     ]
    }
   ],
   "source": [
    "num1=int(input(\"num1=\"))\n",
    "num2=int(input(\"num2=\"))\n",
    "add=num1+num2\n",
    "print(\"add=\",add)"
   ]
  },
  {
   "cell_type": "code",
   "execution_count": 13,
   "id": "375f8bb2-8dd1-446e-bbea-037c059f01e8",
   "metadata": {},
   "outputs": [
    {
     "name": "stdin",
     "output_type": "stream",
     "text": [
      "enter the BMI index: 34\n"
     ]
    },
    {
     "name": "stdout",
     "output_type": "stream",
     "text": [
      "very overweight\n"
     ]
    }
   ],
   "source": [
    "bmi=int(input(\"enter the BMI index:\"))\n",
    "if(bmi<18):\n",
    "   print(\"underweight\")\n",
    "elif(bmi<24):\n",
    "   print(\"normal weight\")\n",
    "else:\n",
    "   print(\"very overweight\")"
   ]
  },
  {
   "cell_type": "code",
   "execution_count": null,
   "id": "b361f408-a6ba-45f6-90b7-bb56dcd74a1c",
   "metadata": {},
   "outputs": [],
   "source": []
  }
 ],
 "metadata": {
  "kernelspec": {
   "display_name": "Python 3 (ipykernel)",
   "language": "python",
   "name": "python3"
  },
  "language_info": {
   "codemirror_mode": {
    "name": "ipython",
    "version": 3
   },
   "file_extension": ".py",
   "mimetype": "text/x-python",
   "name": "python",
   "nbconvert_exporter": "python",
   "pygments_lexer": "ipython3",
   "version": "3.11.7"
  }
 },
 "nbformat": 4,
 "nbformat_minor": 5
}
